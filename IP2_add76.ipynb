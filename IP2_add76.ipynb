{
  "nbformat": 4,
  "nbformat_minor": 0,
  "metadata": {
    "colab": {
      "provenance": [],
      "mount_file_id": "1OBigVzhR2qgz5m95T288cfs2u39G8jb6",
      "authorship_tag": "ABX9TyN6pcgPPnu32YWTRaRaAIE6",
      "include_colab_link": true
    },
    "kernelspec": {
      "name": "python3",
      "display_name": "Python 3"
    },
    "language_info": {
      "name": "python"
    }
  },
  "cells": [
    {
      "cell_type": "markdown",
      "metadata": {
        "id": "view-in-github",
        "colab_type": "text"
      },
      "source": [
        "<a href=\"https://colab.research.google.com/github/YoshifumiMiyagi/KD_ML/blob/main/IP2_add76.ipynb\" target=\"_parent\"><img src=\"https://colab.research.google.com/assets/colab-badge.svg\" alt=\"Open In Colab\"/></a>"
      ]
    },
    {
      "cell_type": "code",
      "execution_count": 1,
      "metadata": {
        "id": "Q81DLRHrSmCx"
      },
      "outputs": [],
      "source": [
        "import numpy as np\n",
        "import pandas as pd\n",
        "import codecs\n",
        "from sklearn.model_selection import train_test_split\n",
        "from imblearn.under_sampling import RandomUnderSampler\n",
        "\n",
        "SEED=42\n",
        "\n",
        "import numpy as np\n",
        "from sklearn.experimental import enable_iterative_imputer\n",
        "from sklearn.impute import IterativeImputer\n",
        "from sklearn.neighbors import LocalOutlierFactor\n",
        "from sklearn.model_selection import KFold, StratifiedKFold\n",
        "\n",
        "from sklearn.model_selection import cross_val_score\n",
        "from sklearn.metrics import roc_curve, auc\n",
        "import matplotlib.pyplot as plt\n",
        "from sklearn.model_selection import KFold,cross_val_score,cross_validate\n",
        "from sklearn.metrics import classification_report\n",
        "from sklearn.metrics import confusion_matrix, accuracy_score, precision_score, recall_score, f1_score,  roc_auc_score\n",
        "import seaborn as sns\n",
        "import matplotlib.pyplot as plt"
      ]
    },
    {
      "cell_type": "code",
      "source": [
        "add = pd.read_csv(\"/content/drive/MyDrive/Dr.Miyagi_R6_6_8_DB_1.csv\", encoding='cp932')"
      ],
      "metadata": {
        "id": "l8bJS20oSvKs"
      },
      "execution_count": 2,
      "outputs": []
    },
    {
      "cell_type": "code",
      "source": [
        "add.columns[10:30]"
      ],
      "metadata": {
        "colab": {
          "base_uri": "https://localhost:8080/"
        },
        "id": "DHISYrpJI2Cc",
        "outputId": "1b93ff44-50a2-43e3-f245-e26d9a3d1c41"
      },
      "execution_count": 10,
      "outputs": [
        {
          "output_type": "execute_result",
          "data": {
            "text/plain": [
              "Index(['Age', 'Age_0:4_1:7_2:8', 'Length', 'Weight', 'sex',\n",
              "       '5th Criteria count', '5th Criteria count_1', 'BCG_non0_posi1',\n",
              "       'Onset date', 'Treat date', 'TreatAre_0:before_1:2011_2:2016', 'Season',\n",
              "       'Treat day', 'IVIG-non-responder_1', 'Second_line_nonresponders',\n",
              "       'Non_responder_0_1_first_2_second', 'IVIG_first', '2nd_line', '3nd Tx',\n",
              "       '4nd Tx'],\n",
              "      dtype='object')"
            ]
          },
          "metadata": {},
          "execution_count": 10
        }
      ]
    },
    {
      "cell_type": "code",
      "source": [
        "raw3_2 = add.loc[:,['prePCT (ng/mL)', 'prePTX3 (ng/mL)', 'preTNC (ng/mL)',\n",
        "       'Age', 'Length', 'Weight', 'sex', '5th Criteria count_1',\n",
        "                    #'Kobayasi score',\n",
        "       'Treat day', 'preWBC_1',  'preNetro',  'pre_Lym', 'preCRP_1',\n",
        "       'prePlt','preTbil','preAST', 'preALT', 'preNa①', 'preIgG','preBNP','ProC',\n",
        "       'D_dimer','HrBeta','HrCre',\n",
        "       'RCA_mm','RCA_z','LMT_mm','LMT_z','LAD_mm','LAD_z','CA_max_diameter','CA_max_z',\n",
        "       'min_LMT','max_LMT','median_LMT','IQR_LMT','mean_LMT','stdDV_LMT','95%low_LMT','95%upper_LMT',\n",
        "       'min_LAD','max_LAD','median_LAD','IQR_LAD','mean_LAD','stdDV_LAD','95%low_LAD','95%upper_LAD',\n",
        "       'min_RCA','max_RCA','median_RCA','IQR_RCA','mean_RCA','stdDV_RCA','95%low_RCA','95%upper_RCA',\n",
        "       'CA_min','CA_max','CA_median','CA_IQR','CA_mean','CA_stdDV','CA_95%CL_low', 'CA_95%Ci_upper']]\n",
        "raw3_2.columns =['PCT', 'PTX3', 'TNC',\n",
        "       'Age', 'Length', 'Weight', 'sex', 'Criteria',\n",
        "                 #'Kobayasi score',\n",
        "       'Treat day', 'WBC',  'Neutro',  'Lym', 'CRP',\n",
        "       'Plt','Tbil','AST', 'ALT', 'Na', 'IgG','BNP','ProC',\n",
        "       'D_dimer','HrBeta','HrCre',\n",
        "       'RCA_mm','RCA_z','LMT_mm','LMT_z','LAD_mm','LAD_z','CA_max_diameter','CA_max_z',\n",
        "       'min_LMT','max_LMT','median_LMT','IQR_LMT','mean_LMT','stdDV_LMT','95%low_LMT','95%upper_LMT',\n",
        "       'min_LAD','max_LAD','median_LAD','IQR_LAD','mean_LAD','stdDV_LAD','95%low_LAD','95%upper_LAD',\n",
        "       'min_RCA','max_RCA','median_RCA','IQR_RCA','mean_RCA','stdDV_RCA','95%low_RCA','95%upper_RCA',\n",
        "       'CA_min','CA_max','CA_median','CA_IQR','CA_mean','CA_stdDV','CA_95%low','CA_95%upper']\n",
        "raw3_2['sex'] = raw3_2['sex'].replace('F',0).replace('M',1).replace('female',0).replace('male',1)\n",
        "Dx_2 = raw3_2\n",
        "#Dy_2 = add.loc[:,\"Kobayasi score\"]\n",
        "Dy_2 = add.loc[:,\"IVIG-non-responder_1\"]"
      ],
      "metadata": {
        "id": "XYFlKNn3SydF"
      },
      "execution_count": 11,
      "outputs": []
    },
    {
      "cell_type": "code",
      "source": [
        "imp_mean = IterativeImputer(random_state=SEED)\n",
        "A= imp_mean.fit_transform(Dx_2)\n",
        "A= pd.DataFrame(A)\n",
        "A.index = Dx_2.index\n",
        "A.columns = Dx_2.columns"
      ],
      "metadata": {
        "id": "Vm1KgW6YS-vy"
      },
      "execution_count": 12,
      "outputs": []
    },
    {
      "cell_type": "code",
      "source": [
        "from sklearn.cluster import KMeans\n",
        "\n",
        "SSE = []\n",
        "for i in range(1, 11):\n",
        "  kmeans = KMeans(n_clusters=i, random_state=0)\n",
        "  kmeans.fit(A)\n",
        "  SSE.append(kmeans.inertia_)\n",
        "\n",
        "\n",
        "plt.plot(range(1, 11), SSE)\n",
        "\n",
        "plt.xlabel('n_clusters')\n",
        "plt.ylabel('sse')\n",
        "plt.xticks(range(1,11,1))\n",
        "\n",
        "plt.show()"
      ],
      "metadata": {
        "colab": {
          "base_uri": "https://localhost:8080/",
          "height": 832
        },
        "id": "JuUZHbdaTDlc",
        "outputId": "c02026fb-486f-4196-d91b-15a6067c212f"
      },
      "execution_count": 13,
      "outputs": [
        {
          "output_type": "stream",
          "name": "stderr",
          "text": [
            "/usr/local/lib/python3.10/dist-packages/sklearn/cluster/_kmeans.py:870: FutureWarning: The default value of `n_init` will change from 10 to 'auto' in 1.4. Set the value of `n_init` explicitly to suppress the warning\n",
            "  warnings.warn(\n",
            "/usr/local/lib/python3.10/dist-packages/sklearn/cluster/_kmeans.py:870: FutureWarning: The default value of `n_init` will change from 10 to 'auto' in 1.4. Set the value of `n_init` explicitly to suppress the warning\n",
            "  warnings.warn(\n",
            "/usr/local/lib/python3.10/dist-packages/sklearn/cluster/_kmeans.py:870: FutureWarning: The default value of `n_init` will change from 10 to 'auto' in 1.4. Set the value of `n_init` explicitly to suppress the warning\n",
            "  warnings.warn(\n",
            "/usr/local/lib/python3.10/dist-packages/sklearn/cluster/_kmeans.py:870: FutureWarning: The default value of `n_init` will change from 10 to 'auto' in 1.4. Set the value of `n_init` explicitly to suppress the warning\n",
            "  warnings.warn(\n",
            "/usr/local/lib/python3.10/dist-packages/sklearn/cluster/_kmeans.py:870: FutureWarning: The default value of `n_init` will change from 10 to 'auto' in 1.4. Set the value of `n_init` explicitly to suppress the warning\n",
            "  warnings.warn(\n",
            "/usr/local/lib/python3.10/dist-packages/sklearn/cluster/_kmeans.py:870: FutureWarning: The default value of `n_init` will change from 10 to 'auto' in 1.4. Set the value of `n_init` explicitly to suppress the warning\n",
            "  warnings.warn(\n",
            "/usr/local/lib/python3.10/dist-packages/sklearn/cluster/_kmeans.py:870: FutureWarning: The default value of `n_init` will change from 10 to 'auto' in 1.4. Set the value of `n_init` explicitly to suppress the warning\n",
            "  warnings.warn(\n",
            "/usr/local/lib/python3.10/dist-packages/sklearn/cluster/_kmeans.py:870: FutureWarning: The default value of `n_init` will change from 10 to 'auto' in 1.4. Set the value of `n_init` explicitly to suppress the warning\n",
            "  warnings.warn(\n",
            "/usr/local/lib/python3.10/dist-packages/sklearn/cluster/_kmeans.py:870: FutureWarning: The default value of `n_init` will change from 10 to 'auto' in 1.4. Set the value of `n_init` explicitly to suppress the warning\n",
            "  warnings.warn(\n",
            "/usr/local/lib/python3.10/dist-packages/sklearn/cluster/_kmeans.py:870: FutureWarning: The default value of `n_init` will change from 10 to 'auto' in 1.4. Set the value of `n_init` explicitly to suppress the warning\n",
            "  warnings.warn(\n"
          ]
        },
        {
          "output_type": "display_data",
          "data": {
            "text/plain": [
              "<Figure size 640x480 with 1 Axes>"
            ],
            "image/png": "[encoded data removed]"
          },
          "metadata": {}
        }
      ]
    },
    {
      "cell_type": "code",
      "source": [
        "from sklearn.cluster import KMeans\n",
        "\n",
        "kmeans_model = KMeans(n_clusters = 3).fit(A)\n",
        "clusters = kmeans_model.labels_\n",
        "\n",
        "k=3\n",
        "for i in range(k):\n",
        "    num = list(clusters).count(i)\n",
        "    print(f'Cluster {i}: n = {num}')"
      ],
      "metadata": {
        "colab": {
          "base_uri": "https://localhost:8080/"
        },
        "id": "Jkm_qRDcTGZA",
        "outputId": "bdfd9f04-ceec-4790-d83e-09a3466a8175"
      },
      "execution_count": 14,
      "outputs": [
        {
          "output_type": "stream",
          "name": "stdout",
          "text": [
            "Cluster 0: n = 50\n",
            "Cluster 1: n = 5\n",
            "Cluster 2: n = 21\n"
          ]
        },
        {
          "output_type": "stream",
          "name": "stderr",
          "text": [
            "/usr/local/lib/python3.10/dist-packages/sklearn/cluster/_kmeans.py:870: FutureWarning: The default value of `n_init` will change from 10 to 'auto' in 1.4. Set the value of `n_init` explicitly to suppress the warning\n",
            "  warnings.warn(\n"
          ]
        }
      ]
    },
    {
      "cell_type": "code",
      "source": [
        "import numpy as np\n",
        "from scipy import stats\n",
        "from statsmodels.stats.multitest import multipletests\n",
        "\n",
        "df_features_with_clusters = A.copy()\n",
        "df_features_with_clusters['cluster'] = clusters\n",
        "cols = A.columns\n",
        "\n",
        "q_threshold = 0.05/len(A.columns)\n",
        "fc_threshold = 1.5\n",
        "\n",
        "fig = plt.figure(figsize=(15,5))\n",
        "\n",
        "for i in range(k):\n",
        "    p_values = []\n",
        "    fcs = []\n",
        "\n",
        "    for col in cols:\n",
        "\n",
        "        group_1 = df_features_with_clusters[df_features_with_clusters['cluster'] == i][col]\n",
        "        group_2 = df_features_with_clusters[df_features_with_clusters['cluster'] != i][col]\n",
        "        p_value = stats.ttest_ind(group_1, group_2, equal_var=False)[1]\n",
        "        p_values.append(p_value)\n",
        "\n",
        "\n",
        "        fc = group_1.mean()/group_2.mean()\n",
        "        fcs.append(fc)\n",
        "\n",
        "\n",
        "    q_values = multipletests(p_values, method='fdr_bh')[1]\n",
        "\n",
        "\n",
        "    colors = []\n",
        "    for col, q_value, fc in zip(cols, q_values, fcs):\n",
        "\n",
        "        if q_value < q_threshold and fc > fc_threshold:\n",
        "            colors.append('red')\n",
        "\n",
        "        elif q_value < q_threshold and fc < 1/fc_threshold:\n",
        "            colors.append('blue')\n",
        "\n",
        "        else:\n",
        "            colors.append('gray')\n",
        "\n",
        "    ax = fig.add_subplot(1,3,i+1)\n",
        "    ax.scatter(np.log2(fcs), -np.log10(q_values),\n",
        "    c=colors)\n",
        "\n",
        "    max_val = max(abs(np.nanmin(np.log2(fcs)[np.log2(fcs) != -np.inf])), max(np.log2(fcs)))\n",
        "    ax.set_xlim([-max_val-1, max_val+1])\n",
        "    ax.set_ylim(ax.get_ylim())\n",
        "\n",
        "\n",
        "    ax.hlines([-np.log10(q_threshold)], -max_val-1, max_val+1, 'gray', 'dashed', linewidth=0.5, alpha=0.5)\n",
        "    ax.vlines([np.log2(fc_threshold), np.log2(1/fc_threshold)], ax.get_ylim()[0], ax.get_ylim()[1], 'gray', 'dashed', linewidth=0.5, alpha=0.5)\n",
        "\n",
        "\n",
        "    ax.set_title(f'Cluster {i}')\n",
        "    ax.set_xlabel('logFC')\n",
        "    ax.set_ylabel('-log10(q-values)')\n",
        "    for j, label in enumerate(cols):\n",
        "        ax.annotate(label, (np.log2(fcs)[j], -np.log10(q_values)[j]), size=9)\n",
        "\n",
        "fig.suptitle('Volcano plots')\n",
        "fig.tight_layout()\n",
        "plt.show()"
      ],
      "metadata": {
        "colab": {
          "base_uri": "https://localhost:8080/",
          "height": 471
        },
        "id": "tZaeaKcwTMZs",
        "outputId": "d9ec5518-0329-4a98-d7c5-ad450d892faf"
      },
      "execution_count": 18,
      "outputs": [
        {
          "output_type": "display_data",
          "data": {
            "text/plain": [
              "<Figure size 1500x500 with 3 Axes>"
            ],
            "image/png": "[encoded data removed]"
          },
          "metadata": {}
        }
      ]
    },
    {
      "cell_type": "code",
      "source": [
        "B = df_features_with_clusters.copy()\n",
        "B['Group'] = Dy_2"
      ],
      "metadata": {
        "id": "dhCv0R_vTUuw"
      },
      "execution_count": 19,
      "outputs": []
    },
    {
      "cell_type": "code",
      "source": [
        "B[B['cluster']==0][\"Group\"].value_counts(),B[B['cluster']==1][\"Group\"].value_counts(),B[B['cluster']==2][\"Group\"].value_counts()"
      ],
      "metadata": {
        "colab": {
          "base_uri": "https://localhost:8080/"
        },
        "id": "PAc9B3IlTak4",
        "outputId": "3ea5a77b-0369-4c27-8370-312bfa9d9303"
      },
      "execution_count": 20,
      "outputs": [
        {
          "output_type": "execute_result",
          "data": {
            "text/plain": [
              "(Group\n",
              " 0    49\n",
              " 1     1\n",
              " Name: count, dtype: int64,\n",
              " Group\n",
              " 0    4\n",
              " 1    1\n",
              " Name: count, dtype: int64,\n",
              " Group\n",
              " 0    17\n",
              " 1     4\n",
              " Name: count, dtype: int64)"
            ]
          },
          "metadata": {},
          "execution_count": 20
        }
      ]
    },
    {
      "cell_type": "markdown",
      "source": [
        "        Fisher's Exact Test for Count Data\n",
        "\n",
        "data:  data\n",
        "p-value = 0.0182\n",
        "alternative hypothesis: two.sided"
      ],
      "metadata": {
        "id": "Zzzd3erpQv_c"
      }
    },
    {
      "cell_type": "markdown",
      "source": [
        "# Comparison with kobayashi score"
      ],
      "metadata": {
        "id": "_OMeCyZeRCur"
      }
    },
    {
      "cell_type": "code",
      "source": [
        "Add = add.copy()\n",
        "Add['cluster'] = clusters"
      ],
      "metadata": {
        "id": "CNa0WDvpRKBU"
      },
      "execution_count": 21,
      "outputs": []
    },
    {
      "cell_type": "code",
      "source": [
        "Add['kobayasi_score_NP'] = Add.loc[:,\"Kobayasi score\"].replace([0,1,2,3,4],'negative').replace([5,6,7,8,9,10,11],'positive')"
      ],
      "metadata": {
        "id": "isC66s4NRicn"
      },
      "execution_count": 25,
      "outputs": []
    },
    {
      "cell_type": "code",
      "source": [
        "pd.crosstab(Add['kobayasi_score_NP'], Add['cluster'])"
      ],
      "metadata": {
        "colab": {
          "base_uri": "https://localhost:8080/",
          "height": 143
        },
        "id": "spLGCgocRsk4",
        "outputId": "e7201310-f16a-47d8-d847-2f34078903ab"
      },
      "execution_count": 26,
      "outputs": [
        {
          "output_type": "execute_result",
          "data": {
            "text/plain": [
              "cluster             0  1  2\n",
              "kobayasi_score_NP          \n",
              "negative           34  1  9\n",
              "positive           13  2  8"
            ],
            "text/html": [
              "\n",
              "  <div id=\"df-020b1071-d50c-493a-ab75-d9fd0a3fafe8\" class=\"colab-df-container\">\n",
              "    <div>\n",
              "<style scoped>\n",
              "    .dataframe tbody tr th:only-of-type {\n",
              "        vertical-align: middle;\n",
              "    }\n",
              "\n",
              "    .dataframe tbody tr th {\n",
              "        vertical-align: top;\n",
              "    }\n",
              "\n",
              "    .dataframe thead th {\n",
              "        text-align: right;\n",
              "    }\n",
              "</style>\n",
              "<table border=\"1\" class=\"dataframe\">\n",
              "  <thead>\n",
              "    <tr style=\"text-align: right;\">\n",
              "      <th>cluster</th>\n",
              "      <th>0</th>\n",
              "      <th>1</th>\n",
              "      <th>2</th>\n",
              "    </tr>\n",
              "    <tr>\n",
              "      <th>kobayasi_score_NP</th>\n",
              "      <th></th>\n",
              "      <th></th>\n",
              "      <th></th>\n",
              "    </tr>\n",
              "  </thead>\n",
              "  <tbody>\n",
              "    <tr>\n",
              "      <th>negative</th>\n",
              "      <td>34</td>\n",
              "      <td>1</td>\n",
              "      <td>9</td>\n",
              "    </tr>\n",
              "    <tr>\n",
              "      <th>positive</th>\n",
              "      <td>13</td>\n",
              "      <td>2</td>\n",
              "      <td>8</td>\n",
              "    </tr>\n",
              "  </tbody>\n",
              "</table>\n",
              "</div>\n",
              "    <div class=\"colab-df-buttons\">\n",
              "\n",
              "  <div class=\"colab-df-container\">\n",
              "    <button class=\"colab-df-convert\" onclick=\"convertToInteractive('df-020b1071-d50c-493a-ab75-d9fd0a3fafe8')\"\n",
              "            title=\"Convert this dataframe to an interactive table.\"\n",
              "            style=\"display:none;\">\n",
              "\n",
              "  <svg xmlns=\"http://www.w3.org/2000/svg\" height=\"24px\" viewBox=\"0 -960 960 960\">\n",
              "    <path d=\"M120-120v-720h720v720H120Zm60-500h600v-160H180v160Zm220 220h160v-160H400v160Zm0 220h160v-160H400v160ZM180-400h160v-160H180v160Zm440 0h160v-160H620v160ZM180-180h160v-160H180v160Zm440 0h160v-160H620v160Z\"/>\n",
              "  </svg>\n",
              "    </button>\n",
              "\n",
              "  <style>\n",
              "    .colab-df-container {\n",
              "      display:flex;\n",
              "      gap: 12px;\n",
              "    }\n",
              "\n",
              "    .colab-df-convert {\n",
              "      background-color: #E8F0FE;\n",
              "      border: none;\n",
              "      border-radius: 50%;\n",
              "      cursor: pointer;\n",
              "      display: none;\n",
              "      fill: #1967D2;\n",
              "      height: 32px;\n",
              "      padding: 0 0 0 0;\n",
              "      width: 32px;\n",
              "    }\n",
              "\n",
              "    .colab-df-convert:hover {\n",
              "      background-color: #E2EBFA;\n",
              "      box-shadow: 0px 1px 2px rgba(60, 64, 67, 0.3), 0px 1px 3px 1px rgba(60, 64, 67, 0.15);\n",
              "      fill: #174EA6;\n",
              "    }\n",
              "\n",
              "    .colab-df-buttons div {\n",
              "      margin-bottom: 4px;\n",
              "    }\n",
              "\n",
              "    [theme=dark] .colab-df-convert {\n",
              "      background-color: #3B4455;\n",
              "      fill: #D2E3FC;\n",
              "    }\n",
              "\n",
              "    [theme=dark] .colab-df-convert:hover {\n",
              "      background-color: #434B5C;\n",
              "      box-shadow: 0px 1px 3px 1px rgba(0, 0, 0, 0.15);\n",
              "      filter: drop-shadow(0px 1px 2px rgba(0, 0, 0, 0.3));\n",
              "      fill: #FFFFFF;\n",
              "    }\n",
              "  </style>\n",
              "\n",
              "    <script>\n",
              "      const buttonEl =\n",
              "        document.querySelector('#df-020b1071-d50c-493a-ab75-d9fd0a3fafe8 button.colab-df-convert');\n",
              "      buttonEl.style.display =\n",
              "        google.colab.kernel.accessAllowed ? 'block' : 'none';\n",
              "\n",
              "      async function convertToInteractive(key) {\n",
              "        const element = document.querySelector('#df-020b1071-d50c-493a-ab75-d9fd0a3fafe8');\n",
              "        const dataTable =\n",
              "          await google.colab.kernel.invokeFunction('convertToInteractive',\n",
              "                                                    [key], {});\n",
              "        if (!dataTable) return;\n",
              "\n",
              "        const docLinkHtml = 'Like what you see? Visit the ' +\n",
              "          '<a target=\"_blank\" href=https://colab.research.google.com/notebooks/data_table.ipynb>data table notebook</a>'\n",
              "          + ' to learn more about interactive tables.';\n",
              "        element.innerHTML = '';\n",
              "        dataTable['output_type'] = 'display_data';\n",
              "        await google.colab.output.renderOutput(dataTable, element);\n",
              "        const docLink = document.createElement('div');\n",
              "        docLink.innerHTML = docLinkHtml;\n",
              "        element.appendChild(docLink);\n",
              "      }\n",
              "    </script>\n",
              "  </div>\n",
              "\n",
              "\n",
              "<div id=\"df-c92f69e5-f40a-4b1c-bc48-0d871aa7367f\">\n",
              "  <button class=\"colab-df-quickchart\" onclick=\"quickchart('df-c92f69e5-f40a-4b1c-bc48-0d871aa7367f')\"\n",
              "            title=\"Suggest charts\"\n",
              "            style=\"display:none;\">\n",
              "\n",
              "<svg xmlns=\"http://www.w3.org/2000/svg\" height=\"24px\"viewBox=\"0 0 24 24\"\n",
              "     width=\"24px\">\n",
              "    <g>\n",
              "        <path d=\"M19 3H5c-1.1 0-2 .9-2 2v14c0 1.1.9 2 2 2h14c1.1 0 2-.9 2-2V5c0-1.1-.9-2-2-2zM9 17H7v-7h2v7zm4 0h-2V7h2v10zm4 0h-2v-4h2v4z\"/>\n",
              "    </g>\n",
              "</svg>\n",
              "  </button>\n",
              "\n",
              "<style>\n",
              "  .colab-df-quickchart {\n",
              "      --bg-color: #E8F0FE;\n",
              "      --fill-color: #1967D2;\n",
              "      --hover-bg-color: #E2EBFA;\n",
              "      --hover-fill-color: #174EA6;\n",
              "      --disabled-fill-color: #AAA;\n",
              "      --disabled-bg-color: #DDD;\n",
              "  }\n",
              "\n",
              "  [theme=dark] .colab-df-quickchart {\n",
              "      --bg-color: #3B4455;\n",
              "      --fill-color: #D2E3FC;\n",
              "      --hover-bg-color: #434B5C;\n",
              "      --hover-fill-color: #FFFFFF;\n",
              "      --disabled-bg-color: #3B4455;\n",
              "      --disabled-fill-color: #666;\n",
              "  }\n",
              "\n",
              "  .colab-df-quickchart {\n",
              "    background-color: var(--bg-color);\n",
              "    border: none;\n",
              "    border-radius: 50%;\n",
              "    cursor: pointer;\n",
              "    display: none;\n",
              "    fill: var(--fill-color);\n",
              "    height: 32px;\n",
              "    padding: 0;\n",
              "    width: 32px;\n",
              "  }\n",
              "\n",
              "  .colab-df-quickchart:hover {\n",
              "    background-color: var(--hover-bg-color);\n",
              "    box-shadow: 0 1px 2px rgba(60, 64, 67, 0.3), 0 1px 3px 1px rgba(60, 64, 67, 0.15);\n",
              "    fill: var(--button-hover-fill-color);\n",
              "  }\n",
              "\n",
              "  .colab-df-quickchart-complete:disabled,\n",
              "  .colab-df-quickchart-complete:disabled:hover {\n",
              "    background-color: var(--disabled-bg-color);\n",
              "    fill: var(--disabled-fill-color);\n",
              "    box-shadow: none;\n",
              "  }\n",
              "\n",
              "  .colab-df-spinner {\n",
              "    border: 2px solid var(--fill-color);\n",
              "    border-color: transparent;\n",
              "    border-bottom-color: var(--fill-color);\n",
              "    animation:\n",
              "      spin 1s steps(1) infinite;\n",
              "  }\n",
              "\n",
              "  @keyframes spin {\n",
              "    0% {\n",
              "      border-color: transparent;\n",
              "      border-bottom-color: var(--fill-color);\n",
              "      border-left-color: var(--fill-color);\n",
              "    }\n",
              "    20% {\n",
              "      border-color: transparent;\n",
              "      border-left-color: var(--fill-color);\n",
              "      border-top-color: var(--fill-color);\n",
              "    }\n",
              "    30% {\n",
              "      border-color: transparent;\n",
              "      border-left-color: var(--fill-color);\n",
              "      border-top-color: var(--fill-color);\n",
              "      border-right-color: var(--fill-color);\n",
              "    }\n",
              "    40% {\n",
              "      border-color: transparent;\n",
              "      border-right-color: var(--fill-color);\n",
              "      border-top-color: var(--fill-color);\n",
              "    }\n",
              "    60% {\n",
              "      border-color: transparent;\n",
              "      border-right-color: var(--fill-color);\n",
              "    }\n",
              "    80% {\n",
              "      border-color: transparent;\n",
              "      border-right-color: var(--fill-color);\n",
              "      border-bottom-color: var(--fill-color);\n",
              "    }\n",
              "    90% {\n",
              "      border-color: transparent;\n",
              "      border-bottom-color: var(--fill-color);\n",
              "    }\n",
              "  }\n",
              "</style>\n",
              "\n",
              "  <script>\n",
              "    async function quickchart(key) {\n",
              "      const quickchartButtonEl =\n",
              "        document.querySelector('#' + key + ' button');\n",
              "      quickchartButtonEl.disabled = true;  // To prevent multiple clicks.\n",
              "      quickchartButtonEl.classList.add('colab-df-spinner');\n",
              "      try {\n",
              "        const charts = await google.colab.kernel.invokeFunction(\n",
              "            'suggestCharts', [key], {});\n",
              "      } catch (error) {\n",
              "        console.error('Error during call to suggestCharts:', error);\n",
              "      }\n",
              "      quickchartButtonEl.classList.remove('colab-df-spinner');\n",
              "      quickchartButtonEl.classList.add('colab-df-quickchart-complete');\n",
              "    }\n",
              "    (() => {\n",
              "      let quickchartButtonEl =\n",
              "        document.querySelector('#df-c92f69e5-f40a-4b1c-bc48-0d871aa7367f button');\n",
              "      quickchartButtonEl.style.display =\n",
              "        google.colab.kernel.accessAllowed ? 'block' : 'none';\n",
              "    })();\n",
              "  </script>\n",
              "</div>\n",
              "\n",
              "    </div>\n",
              "  </div>\n"
            ],
            "application/vnd.google.colaboratory.intrinsic+json": {
              "type": "dataframe",
              "summary": "{\n  \"name\": \"pd\",\n  \"rows\": 2,\n  \"fields\": [\n    {\n      \"column\": \"kobayasi_score_NP\",\n      \"properties\": {\n        \"dtype\": \"string\",\n        \"num_unique_values\": 2,\n        \"samples\": [\n          \"positive\",\n          \"negative\"\n        ],\n        \"semantic_type\": \"\",\n        \"description\": \"\"\n      }\n    },\n    {\n      \"column\": 0,\n      \"properties\": {\n        \"dtype\": \"number\",\n        \"std\": 14,\n        \"min\": 13,\n        \"max\": 34,\n        \"num_unique_values\": 2,\n        \"samples\": [\n          13,\n          34\n        ],\n        \"semantic_type\": \"\",\n        \"description\": \"\"\n      }\n    },\n    {\n      \"column\": 1,\n      \"properties\": {\n        \"dtype\": \"number\",\n        \"std\": 0,\n        \"min\": 1,\n        \"max\": 2,\n        \"num_unique_values\": 2,\n        \"samples\": [\n          2,\n          1\n        ],\n        \"semantic_type\": \"\",\n        \"description\": \"\"\n      }\n    },\n    {\n      \"column\": 2,\n      \"properties\": {\n        \"dtype\": \"number\",\n        \"std\": 0,\n        \"min\": 8,\n        \"max\": 9,\n        \"num_unique_values\": 2,\n        \"samples\": [\n          8,\n          9\n        ],\n        \"semantic_type\": \"\",\n        \"description\": \"\"\n      }\n    }\n  ]\n}"
            }
          },
          "metadata": {},
          "execution_count": 26
        }
      ]
    },
    {
      "cell_type": "markdown",
      "source": [
        "        Fisher's Exact Test for Count Data\n",
        "\n",
        "data:  data\n",
        "p-value = 0.1635\n",
        "alternative hypothesis: two.sided"
      ],
      "metadata": {
        "id": "BjM12TmDTQnJ"
      }
    },
    {
      "cell_type": "code",
      "source": [],
      "metadata": {
        "id": "6tdNO-QqSY17"
      },
      "execution_count": null,
      "outputs": []
    }
  ]
}